{
  "nbformat": 4,
  "nbformat_minor": 0,
  "metadata": {
    "colab": {
      "name": "CALDISS - EDA2",
      "version": "0.3.2",
      "provenance": [],
      "collapsed_sections": [],
      "include_colab_link": true
    },
    "kernelspec": {
      "name": "python3",
      "display_name": "Python 3"
    }
  },
  "cells": [
    {
      "cell_type": "markdown",
      "metadata": {
        "id": "view-in-github",
        "colab_type": "text"
      },
      "source": [
        "<a href=\"https://colab.research.google.com/github/RJuro/CALDISS-EDA/blob/master/CALDISS_EDA2.ipynb\" target=\"_parent\"><img src=\"https://colab.research.google.com/assets/colab-badge.svg\" alt=\"Open In Colab\"/></a>"
      ]
    },
    {
      "metadata": {
        "id": "gnrQ-FwsBqJe",
        "colab_type": "code",
        "colab": {
          "base_uri": "https://localhost:8080/",
          "height": 446
        },
        "outputId": "887b506c-b29d-4505-eb07-eef5f2967094"
      },
      "cell_type": "code",
      "source": [
        "!pip3 install seaborn==0.9.0"
      ],
      "execution_count": 30,
      "outputs": [
        {
          "output_type": "stream",
          "text": [
            "Collecting seaborn==0.9.0\n",
            "\u001b[?25l  Downloading https://files.pythonhosted.org/packages/a8/76/220ba4420459d9c4c9c9587c6ce607bf56c25b3d3d2de62056efe482dadc/seaborn-0.9.0-py3-none-any.whl (208kB)\n",
            "\u001b[K    100% |████████████████████████████████| 215kB 24.0MB/s \n",
            "\u001b[?25hRequirement already satisfied: scipy>=0.14.0 in /usr/local/lib/python3.6/dist-packages (from seaborn==0.9.0) (1.1.0)\n",
            "Requirement already satisfied: numpy>=1.9.3 in /usr/local/lib/python3.6/dist-packages (from seaborn==0.9.0) (1.14.6)\n",
            "Requirement already satisfied: matplotlib>=1.4.3 in /usr/local/lib/python3.6/dist-packages (from seaborn==0.9.0) (3.0.3)\n",
            "Requirement already satisfied: pandas>=0.15.2 in /usr/local/lib/python3.6/dist-packages (from seaborn==0.9.0) (0.22.0)\n",
            "Requirement already satisfied: cycler>=0.10 in /usr/local/lib/python3.6/dist-packages (from matplotlib>=1.4.3->seaborn==0.9.0) (0.10.0)\n",
            "Requirement already satisfied: pyparsing!=2.0.4,!=2.1.2,!=2.1.6,>=2.0.1 in /usr/local/lib/python3.6/dist-packages (from matplotlib>=1.4.3->seaborn==0.9.0) (2.3.1)\n",
            "Requirement already satisfied: python-dateutil>=2.1 in /usr/local/lib/python3.6/dist-packages (from matplotlib>=1.4.3->seaborn==0.9.0) (2.5.3)\n",
            "Requirement already satisfied: kiwisolver>=1.0.1 in /usr/local/lib/python3.6/dist-packages (from matplotlib>=1.4.3->seaborn==0.9.0) (1.0.1)\n",
            "Requirement already satisfied: pytz>=2011k in /usr/local/lib/python3.6/dist-packages (from pandas>=0.15.2->seaborn==0.9.0) (2018.9)\n",
            "Requirement already satisfied: six in /usr/local/lib/python3.6/dist-packages (from cycler>=0.10->matplotlib>=1.4.3->seaborn==0.9.0) (1.11.0)\n",
            "Requirement already satisfied: setuptools in /usr/local/lib/python3.6/dist-packages (from kiwisolver>=1.0.1->matplotlib>=1.4.3->seaborn==0.9.0) (40.8.0)\n",
            "Installing collected packages: seaborn\n",
            "  Found existing installation: seaborn 0.7.1\n",
            "    Uninstalling seaborn-0.7.1:\n",
            "      Successfully uninstalled seaborn-0.7.1\n",
            "Successfully installed seaborn-0.9.0\n"
          ],
          "name": "stdout"
        },
        {
          "output_type": "display_data",
          "data": {
            "application/vnd.colab-display-data+json": {
              "pip_warning": {
                "packages": [
                  "seaborn"
                ]
              }
            }
          },
          "metadata": {
            "tags": []
          }
        }
      ]
    },
    {
      "metadata": {
        "id": "B6OcLMqIcJ0Y",
        "colab_type": "code",
        "colab": {}
      },
      "cell_type": "code",
      "source": [
        "!pip3 install hdbscan"
      ],
      "execution_count": 0,
      "outputs": []
    },
    {
      "metadata": {
        "id": "axhadLhBtP30",
        "colab_type": "text"
      },
      "cell_type": "markdown",
      "source": [
        "# A quick dive into nomad geography and the gig-economy\n",
        "## CALDISS - EDA Workshop, 20/3 2019, Roman Jurowetzki\n",
        "\n",
        "In this workshop you will learn how to work with dimensionality reduction and clustering techniques. We will have a look at data that comes in slightly different shapes and how we can aggregate it to identify latent patterns in a population.\n",
        "\n",
        "We will use a dataset on cities worldwide to get familiar with dimensionality reduction.\n",
        "\n",
        "Then, we will use a dataset of jobs performed by 1000 freelance-workers.\n",
        "\n",
        "![](https://www.phocuswire.com/uploadedimages/uploads/2013/04/global-routes.jpg?width=800&height=400&scale=both&mode=crop)\n",
        "\n",
        "There are many many ways to do similar things in Python and despite that we are not working with Natural Language Processing, we will use some tools and packages from this domeain for our analysis."
      ]
    },
    {
      "metadata": {
        "id": "15jNW6FNtZzd",
        "colab_type": "code",
        "colab": {}
      },
      "cell_type": "code",
      "source": [
        "import pandas as pd\n",
        "pd.set_option('display.float_format', lambda x: '%.3f' % x)\n",
        "import numpy as np\n",
        "\n",
        "import gensim\n",
        "from gensim.corpora.dictionary import Dictionary"
      ],
      "execution_count": 0,
      "outputs": []
    },
    {
      "metadata": {
        "id": "el2mVQlWvljI",
        "colab_type": "code",
        "colab": {}
      },
      "cell_type": "code",
      "source": [
        "cities = pd.read_csv('https://github.com/SDS-AAU/M1-2018/raw/master/data/nomad_cities.csv', sep='\\t')"
      ],
      "execution_count": 0,
      "outputs": []
    },
    {
      "metadata": {
        "id": "aIf50m7-wifL",
        "colab_type": "code",
        "colab": {}
      },
      "cell_type": "code",
      "source": [
        "vars_analysis = [\"cost_nomad\", \"cost_coworking\", \"cost_expat\", \"coffee_in_cafe\", \"cost_beer\", # costs\n",
        "          \"places_to_work\", \"free_wifi_available\", \"internet_speed\", # work\n",
        "          \"freedom_score\", \"peace_score\", \"safety\", \"fragile_states_index\", \"press_freedom_index\", # safety & freedom\n",
        "          \"female_friendly\", \"lgbt_friendly\", \"friendly_to_foreigners\", \"racism\", # friendly\n",
        "          \"leisure\",\"life_score\",\"nightlife\",\"weed\"] # fun \n",
        "\n",
        "vars_descr = [\"nomad_score\", \"cost_nomad\", \"places_to_work\", \"freedom_score\", \"friendly_to_foreigners\", \"life_score\"]"
      ],
      "execution_count": 0,
      "outputs": []
    },
    {
      "metadata": {
        "id": "R2PtH_vtwjHe",
        "colab_type": "code",
        "colab": {}
      },
      "cell_type": "code",
      "source": [
        "data = cities[vars_analysis]"
      ],
      "execution_count": 0,
      "outputs": []
    },
    {
      "metadata": {
        "id": "1tuUt1Unw_UF",
        "colab_type": "code",
        "colab": {}
      },
      "cell_type": "code",
      "source": [
        "descr = cities[vars_descr]"
      ],
      "execution_count": 0,
      "outputs": []
    },
    {
      "metadata": {
        "id": "WfLSyC59yGql",
        "colab_type": "code",
        "colab": {
          "base_uri": "https://localhost:8080/",
          "height": 459
        },
        "outputId": "d4720ff5-8f22-41c0-a299-42ad2a686aa4"
      },
      "cell_type": "code",
      "source": [
        "data.info()"
      ],
      "execution_count": 6,
      "outputs": [
        {
          "output_type": "stream",
          "text": [
            "<class 'pandas.core.frame.DataFrame'>\n",
            "RangeIndex: 781 entries, 0 to 780\n",
            "Data columns (total 21 columns):\n",
            "cost_nomad                781 non-null int64\n",
            "cost_coworking            781 non-null float64\n",
            "cost_expat                781 non-null int64\n",
            "coffee_in_cafe            781 non-null float64\n",
            "cost_beer                 781 non-null float64\n",
            "places_to_work            781 non-null float64\n",
            "free_wifi_available       781 non-null float64\n",
            "internet_speed            781 non-null int64\n",
            "freedom_score             781 non-null object\n",
            "peace_score               781 non-null object\n",
            "safety                    781 non-null float64\n",
            "fragile_states_index      781 non-null object\n",
            "press_freedom_index       781 non-null object\n",
            "female_friendly           781 non-null float64\n",
            "lgbt_friendly             781 non-null float64\n",
            "friendly_to_foreigners    781 non-null float64\n",
            "racism                    781 non-null float64\n",
            "leisure                   781 non-null float64\n",
            "life_score                781 non-null float64\n",
            "nightlife                 781 non-null float64\n",
            "weed                      781 non-null int64\n",
            "dtypes: float64(13), int64(4), object(4)\n",
            "memory usage: 128.2+ KB\n"
          ],
          "name": "stdout"
        }
      ]
    },
    {
      "metadata": {
        "id": "rb2w3utrx2cI",
        "colab_type": "code",
        "colab": {
          "base_uri": "https://localhost:8080/",
          "height": 527
        },
        "outputId": "8a262bb0-55dc-4eeb-df62-020d3f7ac645"
      },
      "cell_type": "code",
      "source": [
        "print(data['peace_score'].unique())\n",
        "print(data['freedom_score'].unique())\n",
        "print(data['fragile_states_index'].unique())\n",
        "print(data['press_freedom_index'].unique())"
      ],
      "execution_count": 7,
      "outputs": [
        {
          "output_type": "stream",
          "text": [
            "['0.8' '0.4' 'DotMap(__next__=DotMap())' '1' '0.6' 'DotMap()' '0.2']\n",
            "['0.6' '0.2' '0.8' '1' '0.4' 'DotMap()']\n",
            "['52.7' '78.8' '40.8' 'DotMap(__next__=DotMap())' '34' '39.8' '29.2' '29'\n",
            " '21.3' '22.6' '74.9' '48.4' '23.8' '28.6' '70.7' 'DotMap()' '22.5' '36.1'\n",
            " '28.2' '21.8' '39.6' '65.3' '34.5' '43.1' '27.5' '32.4' '55.9' '53.2'\n",
            " '35.1' '52.9' '21.2' '70.4' '32.9' '40.7' '47.4' '43.4' '36.2' '75.5'\n",
            " '67' '73.9' '81' '79.6' '41.9' '72' '21.5' '69.6' '44.9' '77.3' '18.8'\n",
            " '64' '45.1' '52.4' '33.9' '53.7' '78.9' '78' '42.4' '66.1' '70.8' '65'\n",
            " '44.5' '51.6' '75.6' '74.2' '66.3' '80.2' '62' '24.1' '72.6' '87.7'\n",
            " '55.2' '83.6' '84.7' '43.2' '61.2' '63.4' '22.8' '72.2' '76.3' '66' '74'\n",
            " '73.2' '69.9' '90.7' '66.5' '87.4' '98.3' '89.6' '78.5' '101.7' '79'\n",
            " '72.5' '90.2' '56.6' '83.2' '96.3' '84.4' '103.5' '74.6' '71.1' '95.2'\n",
            " '91.2' '78.3' '91.3' '83.5' '87.8' '84.2' '81.8' '97.7' '71.2' '79.8'\n",
            " '83.8' '97.2' '86.9' '100.5' '103.8' '97.8' '90.5' '111.5' '110.8' '81.6'\n",
            " '86.2' '91' '96.4' '104.7' '93.9']\n",
            "['28.17' '44.53' '16.66' '24.37' '22.49' '19.92' '17.27' '14.18' '10.01'\n",
            " '12.33' '41.72' '25.09' '15.26' '14.8' '74.27' '28.5' '17.84' '28.58'\n",
            " '8.76' '11.76' '23.84' '32.62' '23.83' '28.93' '13.18' '32.58' '21.7'\n",
            " '30.35' '30.59' '28.67' '24.29' '8.79' '49.33' '52.96' '23.89' '17.38'\n",
            " '14.31' '15.88' '32.93' 'DotMap()' '36.09' '80.96' '12.4' '54.32' '49.03'\n",
            " '43.17' '19.23' '27.6' '8.89' '28.79' '13.26' '50.76' '8.59' '18.26'\n",
            " '11.1' '27.91' '22.26' '34.46' '27.96' '44.49' '19.95' '46.57' '27.9'\n",
            " '12.45' '28.45' '36.73' '40.43' '33.21' '29.99' '42.64' '70.23' '44.11'\n",
            " '53.85' '14.43' '33.63' '44.96' '32.79' '27.99' '44.66' '27.69' '29.92'\n",
            " '54.86' '15.3' '59.72' '57.89' '20.61' '34.17' '28.83' '21.92' '45.94'\n",
            " '35.97' '54.55' '40.7' '30.17' '31.16' '31.95' '31.78' '42.93' '48.52'\n",
            " '28.82' '54.45' '27.61' '38.03' '30.16' '71.58' '35.9' '31.6' '15.15'\n",
            " '39.83' '41.69' '54.61' '61.15' '30.25' '27.04' '28.65' '17.95' '44.62'\n",
            " '50.34' '45.13' '66.52' '40.41' '33.08' '40.53' '39.89' '72.53' '81.35'\n",
            " '44.77' '25.81' '29.94' '54.35' '83.76']\n"
          ],
          "name": "stdout"
        }
      ]
    },
    {
      "metadata": {
        "id": "Nvu_3-PQy69_",
        "colab_type": "code",
        "colab": {}
      },
      "cell_type": "code",
      "source": [
        "def floater(x):\n",
        "  try: \n",
        "    return float(x)\n",
        "  except ValueError:\n",
        "    return np.nan"
      ],
      "execution_count": 0,
      "outputs": []
    },
    {
      "metadata": {
        "id": "VJIxog6kzYi5",
        "colab_type": "code",
        "colab": {
          "base_uri": "https://localhost:8080/",
          "height": 119
        },
        "outputId": "c0f0f2ed-29e5-4121-b52a-1c5390243132"
      },
      "cell_type": "code",
      "source": [
        "data.loc[:,'peace_score'] = data['peace_score'].map(floater)\n",
        "data.loc[:,'freedom_score'] = data['freedom_score'].map(floater)\n",
        "data.loc[:,'fragile_states_index'] = data['fragile_states_index'].map(floater)\n",
        "data.loc[:,'press_freedom_index'] = data['press_freedom_index'].map(floater)"
      ],
      "execution_count": 9,
      "outputs": [
        {
          "output_type": "stream",
          "text": [
            "/usr/local/lib/python3.6/dist-packages/pandas/core/indexing.py:537: SettingWithCopyWarning: \n",
            "A value is trying to be set on a copy of a slice from a DataFrame.\n",
            "Try using .loc[row_indexer,col_indexer] = value instead\n",
            "\n",
            "See the caveats in the documentation: http://pandas.pydata.org/pandas-docs/stable/indexing.html#indexing-view-versus-copy\n",
            "  self.obj[item] = s\n"
          ],
          "name": "stderr"
        }
      ]
    },
    {
      "metadata": {
        "id": "lmzRZp7Uz7_A",
        "colab_type": "code",
        "colab": {
          "base_uri": "https://localhost:8080/",
          "height": 34
        },
        "outputId": "f083df70-953e-43f7-895a-084bfa4abce8"
      },
      "cell_type": "code",
      "source": [
        "from fancyimpute import MatrixFactorization, SimpleFill"
      ],
      "execution_count": 10,
      "outputs": [
        {
          "output_type": "stream",
          "text": [
            "Using TensorFlow backend.\n"
          ],
          "name": "stderr"
        }
      ]
    },
    {
      "metadata": {
        "id": "NMIqDDhf0Uss",
        "colab_type": "code",
        "colab": {}
      },
      "cell_type": "code",
      "source": [
        "data_imp = SimpleFill(fill_method='mean').fit_transform(data)"
      ],
      "execution_count": 0,
      "outputs": []
    },
    {
      "metadata": {
        "id": "YMIbt_pZ1rgI",
        "colab_type": "code",
        "colab": {}
      },
      "cell_type": "code",
      "source": [
        "data_imp = MatrixFactorization().fit_transform(data)"
      ],
      "execution_count": 0,
      "outputs": []
    },
    {
      "metadata": {
        "id": "1hP8PUgL3w8I",
        "colab_type": "code",
        "colab": {
          "base_uri": "https://localhost:8080/",
          "height": 346
        },
        "outputId": "2ab2cbb1-eabe-4b2f-f8ac-134f2e4bb0e3"
      },
      "cell_type": "code",
      "source": [
        "pd.DataFrame(data_imp, columns = data.columns).describe()"
      ],
      "execution_count": 13,
      "outputs": [
        {
          "output_type": "execute_result",
          "data": {
            "text/html": [
              "<div>\n",
              "<style scoped>\n",
              "    .dataframe tbody tr th:only-of-type {\n",
              "        vertical-align: middle;\n",
              "    }\n",
              "\n",
              "    .dataframe tbody tr th {\n",
              "        vertical-align: top;\n",
              "    }\n",
              "\n",
              "    .dataframe thead th {\n",
              "        text-align: right;\n",
              "    }\n",
              "</style>\n",
              "<table border=\"1\" class=\"dataframe\">\n",
              "  <thead>\n",
              "    <tr style=\"text-align: right;\">\n",
              "      <th></th>\n",
              "      <th>cost_nomad</th>\n",
              "      <th>cost_coworking</th>\n",
              "      <th>cost_expat</th>\n",
              "      <th>coffee_in_cafe</th>\n",
              "      <th>cost_beer</th>\n",
              "      <th>places_to_work</th>\n",
              "      <th>free_wifi_available</th>\n",
              "      <th>internet_speed</th>\n",
              "      <th>freedom_score</th>\n",
              "      <th>peace_score</th>\n",
              "      <th>...</th>\n",
              "      <th>fragile_states_index</th>\n",
              "      <th>press_freedom_index</th>\n",
              "      <th>female_friendly</th>\n",
              "      <th>lgbt_friendly</th>\n",
              "      <th>friendly_to_foreigners</th>\n",
              "      <th>racism</th>\n",
              "      <th>leisure</th>\n",
              "      <th>life_score</th>\n",
              "      <th>nightlife</th>\n",
              "      <th>weed</th>\n",
              "    </tr>\n",
              "  </thead>\n",
              "  <tbody>\n",
              "    <tr>\n",
              "      <th>count</th>\n",
              "      <td>781.000</td>\n",
              "      <td>781.000</td>\n",
              "      <td>781.000</td>\n",
              "      <td>781.000</td>\n",
              "      <td>781.000</td>\n",
              "      <td>781.000</td>\n",
              "      <td>781.000</td>\n",
              "      <td>781.000</td>\n",
              "      <td>781.000</td>\n",
              "      <td>781.000</td>\n",
              "      <td>...</td>\n",
              "      <td>781.000</td>\n",
              "      <td>781.000</td>\n",
              "      <td>781.000</td>\n",
              "      <td>781.000</td>\n",
              "      <td>781.000</td>\n",
              "      <td>781.000</td>\n",
              "      <td>781.000</td>\n",
              "      <td>781.000</td>\n",
              "      <td>781.000</td>\n",
              "      <td>781.000</td>\n",
              "    </tr>\n",
              "    <tr>\n",
              "      <th>mean</th>\n",
              "      <td>2332.348</td>\n",
              "      <td>210.360</td>\n",
              "      <td>1880.431</td>\n",
              "      <td>3.296</td>\n",
              "      <td>3.296</td>\n",
              "      <td>0.571</td>\n",
              "      <td>0.561</td>\n",
              "      <td>13.589</td>\n",
              "      <td>0.478</td>\n",
              "      <td>0.674</td>\n",
              "      <td>...</td>\n",
              "      <td>55.563</td>\n",
              "      <td>35.086</td>\n",
              "      <td>0.645</td>\n",
              "      <td>0.545</td>\n",
              "      <td>0.737</td>\n",
              "      <td>23280176929344430622638080.000</td>\n",
              "      <td>0.631</td>\n",
              "      <td>0.700</td>\n",
              "      <td>0.605</td>\n",
              "      <td>0.117</td>\n",
              "    </tr>\n",
              "    <tr>\n",
              "      <th>std</th>\n",
              "      <td>1117.532</td>\n",
              "      <td>173.979</td>\n",
              "      <td>1265.411</td>\n",
              "      <td>1.982</td>\n",
              "      <td>1.982</td>\n",
              "      <td>0.220</td>\n",
              "      <td>0.240</td>\n",
              "      <td>18.199</td>\n",
              "      <td>0.247</td>\n",
              "      <td>0.223</td>\n",
              "      <td>...</td>\n",
              "      <td>23.329</td>\n",
              "      <td>19.462</td>\n",
              "      <td>0.247</td>\n",
              "      <td>0.244</td>\n",
              "      <td>0.184</td>\n",
              "      <td>650596606331366367658246144.000</td>\n",
              "      <td>0.201</td>\n",
              "      <td>0.148</td>\n",
              "      <td>0.234</td>\n",
              "      <td>0.321</td>\n",
              "    </tr>\n",
              "    <tr>\n",
              "      <th>min</th>\n",
              "      <td>387.000</td>\n",
              "      <td>0.010</td>\n",
              "      <td>296.000</td>\n",
              "      <td>0.000</td>\n",
              "      <td>0.000</td>\n",
              "      <td>0.000</td>\n",
              "      <td>0.000</td>\n",
              "      <td>0.000</td>\n",
              "      <td>0.178</td>\n",
              "      <td>0.200</td>\n",
              "      <td>...</td>\n",
              "      <td>18.800</td>\n",
              "      <td>8.590</td>\n",
              "      <td>0.000</td>\n",
              "      <td>0.180</td>\n",
              "      <td>0.000</td>\n",
              "      <td>0.000</td>\n",
              "      <td>0.000</td>\n",
              "      <td>0.010</td>\n",
              "      <td>0.000</td>\n",
              "      <td>0.000</td>\n",
              "    </tr>\n",
              "    <tr>\n",
              "      <th>25%</th>\n",
              "      <td>1486.000</td>\n",
              "      <td>88.960</td>\n",
              "      <td>1010.000</td>\n",
              "      <td>1.600</td>\n",
              "      <td>1.600</td>\n",
              "      <td>0.400</td>\n",
              "      <td>0.400</td>\n",
              "      <td>2.000</td>\n",
              "      <td>0.200</td>\n",
              "      <td>0.568</td>\n",
              "      <td>...</td>\n",
              "      <td>34.000</td>\n",
              "      <td>22.490</td>\n",
              "      <td>0.440</td>\n",
              "      <td>0.400</td>\n",
              "      <td>0.600</td>\n",
              "      <td>0.400</td>\n",
              "      <td>0.450</td>\n",
              "      <td>0.620</td>\n",
              "      <td>0.400</td>\n",
              "      <td>0.000</td>\n",
              "    </tr>\n",
              "    <tr>\n",
              "      <th>50%</th>\n",
              "      <td>2209.000</td>\n",
              "      <td>172.050</td>\n",
              "      <td>1646.000</td>\n",
              "      <td>3.030</td>\n",
              "      <td>3.030</td>\n",
              "      <td>0.400</td>\n",
              "      <td>0.600</td>\n",
              "      <td>6.000</td>\n",
              "      <td>0.600</td>\n",
              "      <td>0.800</td>\n",
              "      <td>...</td>\n",
              "      <td>53.700</td>\n",
              "      <td>28.930</td>\n",
              "      <td>0.600</td>\n",
              "      <td>0.600</td>\n",
              "      <td>0.800</td>\n",
              "      <td>0.600</td>\n",
              "      <td>0.600</td>\n",
              "      <td>0.720</td>\n",
              "      <td>0.600</td>\n",
              "      <td>0.000</td>\n",
              "    </tr>\n",
              "    <tr>\n",
              "      <th>75%</th>\n",
              "      <td>3056.000</td>\n",
              "      <td>277.350</td>\n",
              "      <td>2408.000</td>\n",
              "      <td>4.620</td>\n",
              "      <td>4.620</td>\n",
              "      <td>0.800</td>\n",
              "      <td>0.800</td>\n",
              "      <td>19.000</td>\n",
              "      <td>0.600</td>\n",
              "      <td>0.800</td>\n",
              "      <td>...</td>\n",
              "      <td>74.900</td>\n",
              "      <td>44.530</td>\n",
              "      <td>0.800</td>\n",
              "      <td>0.800</td>\n",
              "      <td>0.800</td>\n",
              "      <td>0.800</td>\n",
              "      <td>0.800</td>\n",
              "      <td>0.810</td>\n",
              "      <td>0.800</td>\n",
              "      <td>0.000</td>\n",
              "    </tr>\n",
              "    <tr>\n",
              "      <th>max</th>\n",
              "      <td>10121.000</td>\n",
              "      <td>1524.460</td>\n",
              "      <td>13406.000</td>\n",
              "      <td>13.720</td>\n",
              "      <td>13.720</td>\n",
              "      <td>1.000</td>\n",
              "      <td>1.000</td>\n",
              "      <td>197.000</td>\n",
              "      <td>1.000</td>\n",
              "      <td>1.000</td>\n",
              "      <td>...</td>\n",
              "      <td>111.500</td>\n",
              "      <td>83.760</td>\n",
              "      <td>1.000</td>\n",
              "      <td>1.000</td>\n",
              "      <td>1.000</td>\n",
              "      <td>18181818181818001939777978368.000</td>\n",
              "      <td>1.000</td>\n",
              "      <td>1.000</td>\n",
              "      <td>1.000</td>\n",
              "      <td>1.000</td>\n",
              "    </tr>\n",
              "  </tbody>\n",
              "</table>\n",
              "<p>8 rows × 21 columns</p>\n",
              "</div>"
            ],
            "text/plain": [
              "       cost_nomad  cost_coworking  cost_expat  coffee_in_cafe  cost_beer  \\\n",
              "count     781.000         781.000     781.000         781.000    781.000   \n",
              "mean     2332.348         210.360    1880.431           3.296      3.296   \n",
              "std      1117.532         173.979    1265.411           1.982      1.982   \n",
              "min       387.000           0.010     296.000           0.000      0.000   \n",
              "25%      1486.000          88.960    1010.000           1.600      1.600   \n",
              "50%      2209.000         172.050    1646.000           3.030      3.030   \n",
              "75%      3056.000         277.350    2408.000           4.620      4.620   \n",
              "max     10121.000        1524.460   13406.000          13.720     13.720   \n",
              "\n",
              "       places_to_work  free_wifi_available  internet_speed  freedom_score  \\\n",
              "count         781.000              781.000         781.000        781.000   \n",
              "mean            0.571                0.561          13.589          0.478   \n",
              "std             0.220                0.240          18.199          0.247   \n",
              "min             0.000                0.000           0.000          0.178   \n",
              "25%             0.400                0.400           2.000          0.200   \n",
              "50%             0.400                0.600           6.000          0.600   \n",
              "75%             0.800                0.800          19.000          0.600   \n",
              "max             1.000                1.000         197.000          1.000   \n",
              "\n",
              "       peace_score   ...    fragile_states_index  press_freedom_index  \\\n",
              "count      781.000   ...                 781.000              781.000   \n",
              "mean         0.674   ...                  55.563               35.086   \n",
              "std          0.223   ...                  23.329               19.462   \n",
              "min          0.200   ...                  18.800                8.590   \n",
              "25%          0.568   ...                  34.000               22.490   \n",
              "50%          0.800   ...                  53.700               28.930   \n",
              "75%          0.800   ...                  74.900               44.530   \n",
              "max          1.000   ...                 111.500               83.760   \n",
              "\n",
              "       female_friendly  lgbt_friendly  friendly_to_foreigners  \\\n",
              "count          781.000        781.000                 781.000   \n",
              "mean             0.645          0.545                   0.737   \n",
              "std              0.247          0.244                   0.184   \n",
              "min              0.000          0.180                   0.000   \n",
              "25%              0.440          0.400                   0.600   \n",
              "50%              0.600          0.600                   0.800   \n",
              "75%              0.800          0.800                   0.800   \n",
              "max              1.000          1.000                   1.000   \n",
              "\n",
              "                                 racism  leisure  life_score  nightlife  \\\n",
              "count                           781.000  781.000     781.000    781.000   \n",
              "mean     23280176929344430622638080.000    0.631       0.700      0.605   \n",
              "std     650596606331366367658246144.000    0.201       0.148      0.234   \n",
              "min                               0.000    0.000       0.010      0.000   \n",
              "25%                               0.400    0.450       0.620      0.400   \n",
              "50%                               0.600    0.600       0.720      0.600   \n",
              "75%                               0.800    0.800       0.810      0.800   \n",
              "max   18181818181818001939777978368.000    1.000       1.000      1.000   \n",
              "\n",
              "         weed  \n",
              "count 781.000  \n",
              "mean    0.117  \n",
              "std     0.321  \n",
              "min     0.000  \n",
              "25%     0.000  \n",
              "50%     0.000  \n",
              "75%     0.000  \n",
              "max     1.000  \n",
              "\n",
              "[8 rows x 21 columns]"
            ]
          },
          "metadata": {
            "tags": []
          },
          "execution_count": 13
        }
      ]
    },
    {
      "metadata": {
        "id": "muuGk6V33kIm",
        "colab_type": "code",
        "colab": {}
      },
      "cell_type": "code",
      "source": [
        "from sklearn.preprocessing import StandardScaler\n",
        "\n",
        "scaler = StandardScaler()\n",
        "\n",
        "data_scaled = scaler.fit_transform(data_imp)"
      ],
      "execution_count": 0,
      "outputs": []
    },
    {
      "metadata": {
        "id": "y2cAn_IE4GQ3",
        "colab_type": "code",
        "colab": {
          "base_uri": "https://localhost:8080/",
          "height": 346
        },
        "outputId": "16669219-f2f7-4340-9d24-72422457e5d4"
      },
      "cell_type": "code",
      "source": [
        "pd.DataFrame(data_scaled, columns=data.columns).describe()"
      ],
      "execution_count": 15,
      "outputs": [
        {
          "output_type": "execute_result",
          "data": {
            "text/html": [
              "<div>\n",
              "<style scoped>\n",
              "    .dataframe tbody tr th:only-of-type {\n",
              "        vertical-align: middle;\n",
              "    }\n",
              "\n",
              "    .dataframe tbody tr th {\n",
              "        vertical-align: top;\n",
              "    }\n",
              "\n",
              "    .dataframe thead th {\n",
              "        text-align: right;\n",
              "    }\n",
              "</style>\n",
              "<table border=\"1\" class=\"dataframe\">\n",
              "  <thead>\n",
              "    <tr style=\"text-align: right;\">\n",
              "      <th></th>\n",
              "      <th>cost_nomad</th>\n",
              "      <th>cost_coworking</th>\n",
              "      <th>cost_expat</th>\n",
              "      <th>coffee_in_cafe</th>\n",
              "      <th>cost_beer</th>\n",
              "      <th>places_to_work</th>\n",
              "      <th>free_wifi_available</th>\n",
              "      <th>internet_speed</th>\n",
              "      <th>freedom_score</th>\n",
              "      <th>peace_score</th>\n",
              "      <th>...</th>\n",
              "      <th>fragile_states_index</th>\n",
              "      <th>press_freedom_index</th>\n",
              "      <th>female_friendly</th>\n",
              "      <th>lgbt_friendly</th>\n",
              "      <th>friendly_to_foreigners</th>\n",
              "      <th>racism</th>\n",
              "      <th>leisure</th>\n",
              "      <th>life_score</th>\n",
              "      <th>nightlife</th>\n",
              "      <th>weed</th>\n",
              "    </tr>\n",
              "  </thead>\n",
              "  <tbody>\n",
              "    <tr>\n",
              "      <th>count</th>\n",
              "      <td>781.000</td>\n",
              "      <td>781.000</td>\n",
              "      <td>781.000</td>\n",
              "      <td>781.000</td>\n",
              "      <td>781.000</td>\n",
              "      <td>781.000</td>\n",
              "      <td>781.000</td>\n",
              "      <td>781.000</td>\n",
              "      <td>781.000</td>\n",
              "      <td>781.000</td>\n",
              "      <td>...</td>\n",
              "      <td>781.000</td>\n",
              "      <td>781.000</td>\n",
              "      <td>781.000</td>\n",
              "      <td>781.000</td>\n",
              "      <td>781.000</td>\n",
              "      <td>781.000</td>\n",
              "      <td>781.000</td>\n",
              "      <td>781.000</td>\n",
              "      <td>781.000</td>\n",
              "      <td>781.000</td>\n",
              "    </tr>\n",
              "    <tr>\n",
              "      <th>mean</th>\n",
              "      <td>0.000</td>\n",
              "      <td>-0.000</td>\n",
              "      <td>-0.000</td>\n",
              "      <td>-0.000</td>\n",
              "      <td>-0.000</td>\n",
              "      <td>0.000</td>\n",
              "      <td>0.000</td>\n",
              "      <td>-0.000</td>\n",
              "      <td>0.000</td>\n",
              "      <td>-0.000</td>\n",
              "      <td>...</td>\n",
              "      <td>0.000</td>\n",
              "      <td>0.000</td>\n",
              "      <td>-0.000</td>\n",
              "      <td>0.000</td>\n",
              "      <td>-0.000</td>\n",
              "      <td>0.000</td>\n",
              "      <td>-0.000</td>\n",
              "      <td>0.000</td>\n",
              "      <td>0.000</td>\n",
              "      <td>-0.000</td>\n",
              "    </tr>\n",
              "    <tr>\n",
              "      <th>std</th>\n",
              "      <td>1.001</td>\n",
              "      <td>1.001</td>\n",
              "      <td>1.001</td>\n",
              "      <td>1.001</td>\n",
              "      <td>1.001</td>\n",
              "      <td>1.001</td>\n",
              "      <td>1.001</td>\n",
              "      <td>1.001</td>\n",
              "      <td>1.001</td>\n",
              "      <td>1.001</td>\n",
              "      <td>...</td>\n",
              "      <td>1.001</td>\n",
              "      <td>1.001</td>\n",
              "      <td>1.001</td>\n",
              "      <td>1.001</td>\n",
              "      <td>1.001</td>\n",
              "      <td>1.001</td>\n",
              "      <td>1.001</td>\n",
              "      <td>1.001</td>\n",
              "      <td>1.001</td>\n",
              "      <td>1.001</td>\n",
              "    </tr>\n",
              "    <tr>\n",
              "      <th>min</th>\n",
              "      <td>-1.742</td>\n",
              "      <td>-1.210</td>\n",
              "      <td>-1.253</td>\n",
              "      <td>-1.664</td>\n",
              "      <td>-1.664</td>\n",
              "      <td>-2.597</td>\n",
              "      <td>-2.344</td>\n",
              "      <td>-0.747</td>\n",
              "      <td>-1.216</td>\n",
              "      <td>-2.126</td>\n",
              "      <td>...</td>\n",
              "      <td>-1.577</td>\n",
              "      <td>-1.362</td>\n",
              "      <td>-2.610</td>\n",
              "      <td>-1.498</td>\n",
              "      <td>-4.009</td>\n",
              "      <td>-0.036</td>\n",
              "      <td>-3.142</td>\n",
              "      <td>-4.674</td>\n",
              "      <td>-2.587</td>\n",
              "      <td>-0.363</td>\n",
              "    </tr>\n",
              "    <tr>\n",
              "      <th>25%</th>\n",
              "      <td>-0.758</td>\n",
              "      <td>-0.698</td>\n",
              "      <td>-0.688</td>\n",
              "      <td>-0.856</td>\n",
              "      <td>-0.856</td>\n",
              "      <td>-0.779</td>\n",
              "      <td>-0.673</td>\n",
              "      <td>-0.637</td>\n",
              "      <td>-1.129</td>\n",
              "      <td>-0.475</td>\n",
              "      <td>...</td>\n",
              "      <td>-0.925</td>\n",
              "      <td>-0.648</td>\n",
              "      <td>-0.831</td>\n",
              "      <td>-0.596</td>\n",
              "      <td>-0.744</td>\n",
              "      <td>-0.036</td>\n",
              "      <td>-0.900</td>\n",
              "      <td>-0.544</td>\n",
              "      <td>-0.877</td>\n",
              "      <td>-0.363</td>\n",
              "    </tr>\n",
              "    <tr>\n",
              "      <th>50%</th>\n",
              "      <td>-0.110</td>\n",
              "      <td>-0.220</td>\n",
              "      <td>-0.185</td>\n",
              "      <td>-0.134</td>\n",
              "      <td>-0.134</td>\n",
              "      <td>-0.779</td>\n",
              "      <td>0.162</td>\n",
              "      <td>-0.417</td>\n",
              "      <td>0.493</td>\n",
              "      <td>0.566</td>\n",
              "      <td>...</td>\n",
              "      <td>-0.080</td>\n",
              "      <td>-0.317</td>\n",
              "      <td>-0.184</td>\n",
              "      <td>0.224</td>\n",
              "      <td>0.345</td>\n",
              "      <td>-0.036</td>\n",
              "      <td>-0.153</td>\n",
              "      <td>0.133</td>\n",
              "      <td>-0.022</td>\n",
              "      <td>-0.363</td>\n",
              "    </tr>\n",
              "    <tr>\n",
              "      <th>75%</th>\n",
              "      <td>0.648</td>\n",
              "      <td>0.385</td>\n",
              "      <td>0.417</td>\n",
              "      <td>0.668</td>\n",
              "      <td>0.668</td>\n",
              "      <td>1.039</td>\n",
              "      <td>0.998</td>\n",
              "      <td>0.298</td>\n",
              "      <td>0.493</td>\n",
              "      <td>0.566</td>\n",
              "      <td>...</td>\n",
              "      <td>0.829</td>\n",
              "      <td>0.486</td>\n",
              "      <td>0.625</td>\n",
              "      <td>1.044</td>\n",
              "      <td>0.345</td>\n",
              "      <td>-0.036</td>\n",
              "      <td>0.843</td>\n",
              "      <td>0.742</td>\n",
              "      <td>0.832</td>\n",
              "      <td>-0.363</td>\n",
              "    </tr>\n",
              "    <tr>\n",
              "      <th>max</th>\n",
              "      <td>6.974</td>\n",
              "      <td>7.558</td>\n",
              "      <td>9.114</td>\n",
              "      <td>5.263</td>\n",
              "      <td>5.263</td>\n",
              "      <td>1.948</td>\n",
              "      <td>1.833</td>\n",
              "      <td>10.084</td>\n",
              "      <td>2.114</td>\n",
              "      <td>1.464</td>\n",
              "      <td>...</td>\n",
              "      <td>2.399</td>\n",
              "      <td>2.503</td>\n",
              "      <td>1.434</td>\n",
              "      <td>1.864</td>\n",
              "      <td>1.433</td>\n",
              "      <td>27.928</td>\n",
              "      <td>1.840</td>\n",
              "      <td>2.028</td>\n",
              "      <td>1.687</td>\n",
              "      <td>2.754</td>\n",
              "    </tr>\n",
              "  </tbody>\n",
              "</table>\n",
              "<p>8 rows × 21 columns</p>\n",
              "</div>"
            ],
            "text/plain": [
              "       cost_nomad  cost_coworking  cost_expat  coffee_in_cafe  cost_beer  \\\n",
              "count     781.000         781.000     781.000         781.000    781.000   \n",
              "mean        0.000          -0.000      -0.000          -0.000     -0.000   \n",
              "std         1.001           1.001       1.001           1.001      1.001   \n",
              "min        -1.742          -1.210      -1.253          -1.664     -1.664   \n",
              "25%        -0.758          -0.698      -0.688          -0.856     -0.856   \n",
              "50%        -0.110          -0.220      -0.185          -0.134     -0.134   \n",
              "75%         0.648           0.385       0.417           0.668      0.668   \n",
              "max         6.974           7.558       9.114           5.263      5.263   \n",
              "\n",
              "       places_to_work  free_wifi_available  internet_speed  freedom_score  \\\n",
              "count         781.000              781.000         781.000        781.000   \n",
              "mean            0.000                0.000          -0.000          0.000   \n",
              "std             1.001                1.001           1.001          1.001   \n",
              "min            -2.597               -2.344          -0.747         -1.216   \n",
              "25%            -0.779               -0.673          -0.637         -1.129   \n",
              "50%            -0.779                0.162          -0.417          0.493   \n",
              "75%             1.039                0.998           0.298          0.493   \n",
              "max             1.948                1.833          10.084          2.114   \n",
              "\n",
              "       peace_score   ...    fragile_states_index  press_freedom_index  \\\n",
              "count      781.000   ...                 781.000              781.000   \n",
              "mean        -0.000   ...                   0.000                0.000   \n",
              "std          1.001   ...                   1.001                1.001   \n",
              "min         -2.126   ...                  -1.577               -1.362   \n",
              "25%         -0.475   ...                  -0.925               -0.648   \n",
              "50%          0.566   ...                  -0.080               -0.317   \n",
              "75%          0.566   ...                   0.829                0.486   \n",
              "max          1.464   ...                   2.399                2.503   \n",
              "\n",
              "       female_friendly  lgbt_friendly  friendly_to_foreigners  racism  \\\n",
              "count          781.000        781.000                 781.000 781.000   \n",
              "mean            -0.000          0.000                  -0.000   0.000   \n",
              "std              1.001          1.001                   1.001   1.001   \n",
              "min             -2.610         -1.498                  -4.009  -0.036   \n",
              "25%             -0.831         -0.596                  -0.744  -0.036   \n",
              "50%             -0.184          0.224                   0.345  -0.036   \n",
              "75%              0.625          1.044                   0.345  -0.036   \n",
              "max              1.434          1.864                   1.433  27.928   \n",
              "\n",
              "       leisure  life_score  nightlife    weed  \n",
              "count  781.000     781.000    781.000 781.000  \n",
              "mean    -0.000       0.000      0.000  -0.000  \n",
              "std      1.001       1.001      1.001   1.001  \n",
              "min     -3.142      -4.674     -2.587  -0.363  \n",
              "25%     -0.900      -0.544     -0.877  -0.363  \n",
              "50%     -0.153       0.133     -0.022  -0.363  \n",
              "75%      0.843       0.742      0.832  -0.363  \n",
              "max      1.840       2.028      1.687   2.754  \n",
              "\n",
              "[8 rows x 21 columns]"
            ]
          },
          "metadata": {
            "tags": []
          },
          "execution_count": 15
        }
      ]
    },
    {
      "metadata": {
        "id": "y9GtwCtv4gNM",
        "colab_type": "code",
        "colab": {}
      },
      "cell_type": "code",
      "source": [
        "from sklearn.decomposition import PCA\n",
        "\n",
        "pca = PCA(n_components=7)\n",
        "\n",
        "data_reduced = pca.fit_transform(data_scaled)"
      ],
      "execution_count": 0,
      "outputs": []
    },
    {
      "metadata": {
        "id": "52y7Z-Vh49us",
        "colab_type": "code",
        "colab": {
          "base_uri": "https://localhost:8080/",
          "height": 238
        },
        "outputId": "e78ac866-14f2-4750-b58a-eb643dac65f8"
      },
      "cell_type": "code",
      "source": [
        "data_reduced"
      ],
      "execution_count": 17,
      "outputs": [
        {
          "output_type": "execute_result",
          "data": {
            "text/plain": [
              "array([[-0.59161946, -1.97280039,  0.41413782, ..., -0.36593139,\n",
              "         1.08463654,  0.82403567],\n",
              "       [ 2.00744539, -1.88395696, -0.50121689, ..., -0.26932597,\n",
              "         1.36993593,  0.05541092],\n",
              "       [-2.42510441, -2.8355557 ,  1.43543611, ..., -0.33528915,\n",
              "        -0.50913345, -0.32155467],\n",
              "       ...,\n",
              "       [ 3.14849187, -1.21045675,  2.6997298 , ..., -0.1113557 ,\n",
              "        -1.1964548 , -1.44628704],\n",
              "       [ 5.11342156,  5.77321705,  0.54783562, ..., -0.27515873,\n",
              "         0.38557406, -1.06267979],\n",
              "       [ 4.6043324 ,  5.33209691,  2.05049228, ...,  0.21381022,\n",
              "        -1.31366253,  1.51600103]])"
            ]
          },
          "metadata": {
            "tags": []
          },
          "execution_count": 17
        }
      ]
    },
    {
      "metadata": {
        "id": "ClO7TBNL5ODu",
        "colab_type": "code",
        "colab": {
          "base_uri": "https://localhost:8080/",
          "height": 51
        },
        "outputId": "fba3bed8-a2aa-4104-9f79-1f9758de3492"
      },
      "cell_type": "code",
      "source": [
        "pca.explained_variance_ratio_"
      ],
      "execution_count": 18,
      "outputs": [
        {
          "output_type": "execute_result",
          "data": {
            "text/plain": [
              "array([0.41389151, 0.09407141, 0.06133784, 0.05362708, 0.04770246,\n",
              "       0.04185117, 0.03694504])"
            ]
          },
          "metadata": {
            "tags": []
          },
          "execution_count": 18
        }
      ]
    },
    {
      "metadata": {
        "id": "MqdX6ngX5wyU",
        "colab_type": "code",
        "colab": {
          "base_uri": "https://localhost:8080/",
          "height": 68
        },
        "outputId": "27cdcf41-63c1-40a3-b85c-d058c808c681"
      },
      "cell_type": "code",
      "source": [
        "from sklearn.cluster import KMeans\n",
        "\n",
        "clusterer = KMeans(n_clusters=3)\n",
        "\n",
        "clusterer.fit(data_reduced)"
      ],
      "execution_count": 19,
      "outputs": [
        {
          "output_type": "execute_result",
          "data": {
            "text/plain": [
              "KMeans(algorithm='auto', copy_x=True, init='k-means++', max_iter=300,\n",
              "    n_clusters=3, n_init=10, n_jobs=None, precompute_distances='auto',\n",
              "    random_state=None, tol=0.0001, verbose=0)"
            ]
          },
          "metadata": {
            "tags": []
          },
          "execution_count": 19
        }
      ]
    },
    {
      "metadata": {
        "id": "YtEQJfnQ6Iqs",
        "colab_type": "code",
        "colab": {
          "base_uri": "https://localhost:8080/",
          "height": 629
        },
        "outputId": "7a27c2f2-6eeb-4f38-a886-8627eb81dda3"
      },
      "cell_type": "code",
      "source": [
        "clusterer.labels_"
      ],
      "execution_count": 20,
      "outputs": [
        {
          "output_type": "execute_result",
          "data": {
            "text/plain": [
              "array([1, 1, 0, 0, 0, 0, 0, 0, 0, 0, 0, 0, 0, 0, 0, 0, 1, 0, 0, 0, 0, 1,\n",
              "       0, 1, 0, 0, 1, 0, 0, 0, 2, 0, 0, 0, 0, 1, 0, 0, 0, 0, 0, 0, 0, 0,\n",
              "       0, 0, 0, 0, 0, 0, 0, 0, 0, 0, 0, 0, 0, 0, 0, 0, 1, 0, 0, 0, 0, 0,\n",
              "       0, 0, 0, 0, 0, 0, 0, 0, 0, 0, 0, 0, 0, 0, 0, 0, 0, 0, 0, 0, 0, 0,\n",
              "       0, 0, 0, 0, 0, 0, 0, 0, 0, 0, 0, 0, 0, 0, 0, 0, 1, 0, 0, 1, 1, 1,\n",
              "       1, 0, 0, 0, 0, 0, 1, 0, 1, 0, 0, 0, 0, 0, 0, 0, 1, 0, 0, 0, 1, 0,\n",
              "       1, 1, 0, 0, 0, 0, 0, 0, 0, 1, 0, 0, 1, 0, 1, 0, 0, 0, 1, 0, 0, 0,\n",
              "       0, 0, 0, 0, 0, 0, 0, 1, 0, 0, 0, 0, 0, 0, 0, 1, 1, 0, 1, 2, 0, 0,\n",
              "       1, 0, 0, 1, 0, 1, 0, 0, 0, 0, 1, 0, 0, 0, 0, 0, 0, 0, 0, 0, 0, 0,\n",
              "       0, 0, 0, 0, 0, 1, 1, 1, 1, 0, 0, 1, 0, 0, 0, 0, 1, 0, 0, 0, 1, 0,\n",
              "       0, 0, 1, 1, 0, 0, 0, 0, 0, 1, 1, 0, 0, 0, 1, 0, 0, 1, 0, 0, 1, 1,\n",
              "       0, 0, 0, 1, 0, 0, 1, 1, 0, 0, 1, 1, 0, 0, 0, 1, 0, 0, 0, 0, 0, 0,\n",
              "       1, 0, 1, 1, 1, 0, 0, 0, 1, 0, 0, 1, 0, 0, 0, 0, 2, 0, 0, 0, 1, 0,\n",
              "       0, 1, 0, 0, 0, 0, 0, 0, 1, 0, 0, 0, 2, 0, 0, 0, 1, 0, 1, 0, 1, 0,\n",
              "       1, 0, 1, 0, 1, 0, 0, 0, 1, 0, 0, 0, 0, 0, 2, 1, 0, 1, 0, 2, 1, 0,\n",
              "       0, 1, 0, 0, 2, 0, 1, 0, 1, 0, 0, 2, 0, 0, 0, 0, 0, 2, 1, 0, 1, 2,\n",
              "       0, 0, 1, 1, 0, 1, 0, 0, 0, 0, 1, 0, 1, 0, 0, 0, 1, 1, 1, 0, 0, 1,\n",
              "       1, 2, 2, 1, 0, 1, 1, 1, 1, 1, 0, 1, 1, 0, 1, 0, 0, 1, 1, 1, 0, 1,\n",
              "       0, 1, 2, 0, 1, 1, 0, 1, 2, 2, 0, 0, 0, 2, 2, 0, 2, 0, 0, 0, 1, 0,\n",
              "       1, 1, 0, 0, 0, 1, 0, 1, 1, 0, 1, 2, 0, 0, 1, 0, 0, 2, 1, 0, 1, 0,\n",
              "       0, 0, 0, 1, 2, 2, 0, 0, 1, 0, 0, 0, 2, 1, 1, 1, 1, 0, 2, 1, 2, 1,\n",
              "       1, 1, 1, 2, 0, 2, 0, 1, 2, 2, 2, 0, 0, 1, 0, 2, 0, 1, 1, 0, 1, 1,\n",
              "       2, 1, 0, 2, 2, 1, 2, 0, 0, 0, 2, 2, 2, 2, 1, 2, 2, 1, 1, 0, 1, 1,\n",
              "       2, 0, 0, 2, 1, 0, 1, 0, 2, 2, 2, 0, 0, 2, 2, 2, 1, 0, 2, 2, 1, 2,\n",
              "       2, 2, 0, 0, 2, 0, 1, 2, 2, 1, 2, 1, 2, 2, 1, 2, 1, 2, 2, 1, 2, 1,\n",
              "       1, 1, 2, 2, 2, 1, 0, 1, 2, 1, 2, 2, 2, 1, 0, 1, 1, 2, 1, 2, 1, 2,\n",
              "       2, 2, 2, 2, 1, 2, 2, 2, 2, 1, 1, 1, 1, 1, 1, 2, 1, 1, 2, 1, 2, 2,\n",
              "       1, 0, 2, 1, 2, 1, 2, 0, 1, 2, 1, 2, 2, 2, 1, 1, 2, 1, 0, 2, 1, 2,\n",
              "       1, 1, 1, 2, 1, 2, 2, 1, 2, 1, 2, 2, 2, 2, 2, 2, 1, 2, 2, 2, 2, 1,\n",
              "       2, 2, 2, 2, 2, 2, 2, 2, 2, 1, 2, 2, 2, 2, 2, 2, 2, 1, 2, 2, 2, 2,\n",
              "       2, 1, 2, 2, 2, 2, 2, 2, 1, 2, 2, 2, 2, 2, 2, 1, 2, 2, 2, 2, 2, 2,\n",
              "       1, 1, 2, 2, 2, 1, 2, 2, 2, 2, 2, 2, 1, 0, 2, 2, 1, 2, 2, 2, 2, 2,\n",
              "       2, 2, 2, 2, 2, 2, 2, 2, 2, 2, 1, 2, 2, 2, 2, 1, 1, 2, 1, 2, 2, 1,\n",
              "       2, 2, 2, 2, 2, 2, 2, 1, 2, 2, 2, 2, 1, 2, 2, 2, 2, 2, 2, 2, 2, 2,\n",
              "       2, 2, 2, 2, 2, 2, 2, 2, 1, 2, 2, 1, 2, 2, 2, 2, 2, 2, 2, 2, 2, 2,\n",
              "       2, 2, 2, 2, 2, 2, 2, 2, 1, 2, 2], dtype=int32)"
            ]
          },
          "metadata": {
            "tags": []
          },
          "execution_count": 20
        }
      ]
    },
    {
      "metadata": {
        "id": "8zHyrHkY6adh",
        "colab_type": "code",
        "colab": {}
      },
      "cell_type": "code",
      "source": [
        "import matplotlib.pyplot as plt\n",
        "import seaborn as sns"
      ],
      "execution_count": 0,
      "outputs": []
    },
    {
      "metadata": {
        "id": "1w9zyKypCCtz",
        "colab_type": "code",
        "colab": {
          "base_uri": "https://localhost:8080/",
          "height": 704
        },
        "outputId": "474cb23b-00b6-4dcd-ef46-efc6291a9a3e"
      },
      "cell_type": "code",
      "source": [
        "plt.figure(figsize=(12,12))\n",
        "g = sns.scatterplot(data_reduced[:,0], data_reduced[:,1], hue=clusterer.labels_,\n",
        "               legend='full', palette='viridis')\n",
        "\n",
        "legend = g.get_legend()"
      ],
      "execution_count": 34,
      "outputs": [
        {
          "output_type": "display_data",
          "data": {
            "image/png": "[encoded data removed]",
            "text/plain": [
              "<Figure size 864x864 with 1 Axes>"
            ]
          },
          "metadata": {
            "tags": []
          }
        }
      ]
    },
    {
      "metadata": {
        "id": "L1_hSh8l-xGN",
        "colab_type": "code",
        "colab": {
          "base_uri": "https://localhost:8080/",
          "height": 119
        },
        "outputId": "73125169-63bb-47e5-9ed8-0a76a033d1dd"
      },
      "cell_type": "code",
      "source": [
        "descr['cluster'] = clusterer.labels_\n",
        "cities['cluster'] = clusterer.labels_"
      ],
      "execution_count": 36,
      "outputs": [
        {
          "output_type": "stream",
          "text": [
            "/usr/local/lib/python3.6/dist-packages/ipykernel_launcher.py:1: SettingWithCopyWarning: \n",
            "A value is trying to be set on a copy of a slice from a DataFrame.\n",
            "Try using .loc[row_indexer,col_indexer] = value instead\n",
            "\n",
            "See the caveats in the documentation: http://pandas.pydata.org/pandas-docs/stable/indexing.html#indexing-view-versus-copy\n",
            "  \"\"\"Entry point for launching an IPython kernel.\n"
          ],
          "name": "stderr"
        }
      ]
    },
    {
      "metadata": {
        "id": "XHP3y1dE-17_",
        "colab_type": "code",
        "colab": {
          "base_uri": "https://localhost:8080/",
          "height": 173
        },
        "outputId": "2bad066f-3fa3-4955-8b60-d428936a8f96"
      },
      "cell_type": "code",
      "source": [
        "descr.groupby('cluster').mean()"
      ],
      "execution_count": 37,
      "outputs": [
        {
          "output_type": "execute_result",
          "data": {
            "text/html": [
              "<div>\n",
              "<style scoped>\n",
              "    .dataframe tbody tr th:only-of-type {\n",
              "        vertical-align: middle;\n",
              "    }\n",
              "\n",
              "    .dataframe tbody tr th {\n",
              "        vertical-align: top;\n",
              "    }\n",
              "\n",
              "    .dataframe thead th {\n",
              "        text-align: right;\n",
              "    }\n",
              "</style>\n",
              "<table border=\"1\" class=\"dataframe\">\n",
              "  <thead>\n",
              "    <tr style=\"text-align: right;\">\n",
              "      <th></th>\n",
              "      <th>nomad_score</th>\n",
              "      <th>cost_nomad</th>\n",
              "      <th>places_to_work</th>\n",
              "      <th>friendly_to_foreigners</th>\n",
              "      <th>life_score</th>\n",
              "    </tr>\n",
              "    <tr>\n",
              "      <th>cluster</th>\n",
              "      <th></th>\n",
              "      <th></th>\n",
              "      <th></th>\n",
              "      <th></th>\n",
              "      <th></th>\n",
              "    </tr>\n",
              "  </thead>\n",
              "  <tbody>\n",
              "    <tr>\n",
              "      <th>0</th>\n",
              "      <td>0.739</td>\n",
              "      <td>3102.791</td>\n",
              "      <td>0.665</td>\n",
              "      <td>0.806</td>\n",
              "      <td>0.818</td>\n",
              "    </tr>\n",
              "    <tr>\n",
              "      <th>1</th>\n",
              "      <td>0.650</td>\n",
              "      <td>1871.141</td>\n",
              "      <td>0.580</td>\n",
              "      <td>0.800</td>\n",
              "      <td>0.680</td>\n",
              "    </tr>\n",
              "    <tr>\n",
              "      <th>2</th>\n",
              "      <td>0.515</td>\n",
              "      <td>1597.500</td>\n",
              "      <td>0.425</td>\n",
              "      <td>0.577</td>\n",
              "      <td>0.544</td>\n",
              "    </tr>\n",
              "  </tbody>\n",
              "</table>\n",
              "</div>"
            ],
            "text/plain": [
              "         nomad_score  cost_nomad  places_to_work  friendly_to_foreigners  \\\n",
              "cluster                                                                    \n",
              "0              0.739    3102.791           0.665                   0.806   \n",
              "1              0.650    1871.141           0.580                   0.800   \n",
              "2              0.515    1597.500           0.425                   0.577   \n",
              "\n",
              "         life_score  \n",
              "cluster              \n",
              "0             0.818  \n",
              "1             0.680  \n",
              "2             0.544  "
            ]
          },
          "metadata": {
            "tags": []
          },
          "execution_count": 37
        }
      ]
    },
    {
      "metadata": {
        "id": "KQjNTsH7_KgB",
        "colab_type": "code",
        "colab": {
          "base_uri": "https://localhost:8080/",
          "height": 204
        },
        "outputId": "f99d7c1f-f8ea-4df1-dc1c-c9f9f9f5a5f7"
      },
      "cell_type": "code",
      "source": [
        "cities[cities.cluster == 1].sort_values('nomad_score')['place'][:10]"
      ],
      "execution_count": 39,
      "outputs": [
        {
          "output_type": "execute_result",
          "data": {
            "text/plain": [
              "778            Cali\n",
              "759    Johannesburg\n",
              "756          Luanda\n",
              "738           Accra\n",
              "733           Davao\n",
              "725     George Town\n",
              "722    Sulaymaniyah\n",
              "720             Goa\n",
              "719       San Pedro\n",
              "714           Batam\n",
              "Name: place, dtype: object"
            ]
          },
          "metadata": {
            "tags": []
          },
          "execution_count": 39
        }
      ]
    },
    {
      "metadata": {
        "id": "x4SC0Pz1coqn",
        "colab_type": "text"
      },
      "cell_type": "markdown",
      "source": [
        "## Gig portfolios of online freelancers\n",
        "\n",
        "![alt text](http://sds-datacrunch/public/adult-alone-bar-1308625.jpg)\n",
        "\n",
        "You get gig-portfolio data for 1000 online freelancers – overall ~35k gigs. Given this data can you identify professional patterns?"
      ]
    },
    {
      "metadata": {
        "id": "5YlCnHBnvNmK",
        "colab_type": "code",
        "colab": {}
      },
      "cell_type": "code",
      "source": [
        "# loading the data?\n",
        "data = pd.read_csv('http://sds-datacrunch.aau.dk/public/feelance_eda.csv')"
      ],
      "execution_count": 0,
      "outputs": []
    },
    {
      "metadata": {
        "id": "X-06kXjWDi4X",
        "colab_type": "code",
        "colab": {
          "base_uri": "https://localhost:8080/",
          "height": 323
        },
        "outputId": "cda67f1f-984d-494c-fd56-57e86dfd0c7c"
      },
      "cell_type": "code",
      "source": [
        "# Quick data exploration\n",
        "data.info()"
      ],
      "execution_count": 5,
      "outputs": [
        {
          "output_type": "stream",
          "text": [
            "<class 'pandas.core.frame.DataFrame'>\n",
            "RangeIndex: 34606 entries, 0 to 34605\n",
            "Data columns (total 13 columns):\n",
            "Unnamed: 0          34606 non-null int64\n",
            "as_job_type         34606 non-null object\n",
            "as_opening_title    34606 non-null object\n",
            "as_total_charge     25211 non-null float64\n",
            "as_total_hours      14029 non-null float64\n",
            "dev_country         34606 non-null object\n",
            "econ_sit            34606 non-null object\n",
            "fr_continent        34606 non-null object\n",
            "skls_required_no    5659 non-null float64\n",
            "sub_category        34606 non-null object\n",
            "tenure_d            34374 non-null float64\n",
            "hour_percent        34606 non-null float64\n",
            "f_id                34606 non-null int64\n",
            "dtypes: float64(5), int64(2), object(6)\n",
            "memory usage: 3.4+ MB\n"
          ],
          "name": "stdout"
        }
      ]
    },
    {
      "metadata": {
        "id": "LPP8UOEfERbz",
        "colab_type": "code",
        "colab": {
          "base_uri": "https://localhost:8080/",
          "height": 272
        },
        "outputId": "f4e0ab95-7c31-415d-cf41-cbc7adcb9798"
      },
      "cell_type": "code",
      "source": [
        "# How does one portfolio look like?\n",
        "data[data.f_id == 0].sub_category"
      ],
      "execution_count": 6,
      "outputs": [
        {
          "output_type": "execute_result",
          "data": {
            "text/plain": [
              "0     SEO - Search Engine Optimization\n",
              "1                           Data Entry\n",
              "2     SEO - Search Engine Optimization\n",
              "3     SEO - Search Engine Optimization\n",
              "4        SEM - Search Engine Marketing\n",
              "5        SEM - Search Engine Marketing\n",
              "6        SEM - Search Engine Marketing\n",
              "7        SEM - Search Engine Marketing\n",
              "8                  Display Advertising\n",
              "9        SEM - Search Engine Marketing\n",
              "10    SEO - Search Engine Optimization\n",
              "11    SEO - Search Engine Optimization\n",
              "12              Article & Blog Writing\n",
              "13       SEM - Search Engine Marketing\n",
              "Name: sub_category, dtype: object"
            ]
          },
          "metadata": {
            "tags": []
          },
          "execution_count": 6
        }
      ]
    },
    {
      "metadata": {
        "id": "_BgYMZ5pfSJT",
        "colab_type": "text"
      },
      "cell_type": "markdown",
      "source": [
        "#### Assembling gig-portfolios from a gig-list"
      ]
    },
    {
      "metadata": {
        "id": "qi5lJk7NDuHl",
        "colab_type": "code",
        "colab": {}
      },
      "cell_type": "code",
      "source": [
        "# individual freelancers\n",
        "workers = data.f_id.unique()"
      ],
      "execution_count": 0,
      "outputs": []
    },
    {
      "metadata": {
        "id": "ZmKU47WygbJS",
        "colab_type": "text"
      },
      "cell_type": "markdown",
      "source": [
        "A bit some thing on loops and slightly more advanced  stuff.\n",
        "\n",
        "the next couple of cells will show how you can \n",
        "- add stuff to lists and how to \n",
        "- work with loops"
      ]
    },
    {
      "metadata": {
        "id": "V_2IsbVYmtNw",
        "colab_type": "code",
        "colab": {
          "base_uri": "https://localhost:8080/",
          "height": 68
        },
        "outputId": "8af75fb5-17c3-41bb-e5fe-b26534097f66"
      },
      "cell_type": "code",
      "source": [
        "empty_list = []\n",
        "\n",
        "print(empty_list)\n",
        "\n",
        "empty_list.append(1)\n",
        "\n",
        "print(empty_list)\n",
        "\n",
        "empty_list.append(\"i don't want to be in that list\")\n",
        "\n",
        "print(empty_list)"
      ],
      "execution_count": 10,
      "outputs": [
        {
          "output_type": "stream",
          "text": [
            "[]\n",
            "[1]\n",
            "[1, \"i don't want to be in that list\"]\n"
          ],
          "name": "stdout"
        }
      ]
    },
    {
      "metadata": {
        "id": "QRDtXXxznqhD",
        "colab_type": "code",
        "colab": {
          "base_uri": "https://localhost:8080/",
          "height": 34
        },
        "outputId": "177b2244-3e2d-4f11-e186-6d0e2716be64"
      },
      "cell_type": "code",
      "source": [
        "empty_list.append(['🙉','👽','🐼'])\n",
        "\n",
        "print(empty_list)"
      ],
      "execution_count": 11,
      "outputs": [
        {
          "output_type": "stream",
          "text": [
            "[1, \"i don't want to be in that list\", ['🙉', '👽', '🐼']]\n"
          ],
          "name": "stdout"
        }
      ]
    },
    {
      "metadata": {
        "id": "Lag_wjvBn4ip",
        "colab_type": "code",
        "colab": {}
      },
      "cell_type": "code",
      "source": [
        "# Let's get the panda out! --> '🐼'\n"
      ],
      "execution_count": 0,
      "outputs": []
    },
    {
      "metadata": {
        "id": "eaLh4Xm3norE",
        "colab_type": "code",
        "colab": {}
      },
      "cell_type": "code",
      "source": [
        "empty_list.extend(['🐧','🍅','🤘'])\n",
        "\n",
        "print(empty_list)"
      ],
      "execution_count": 0,
      "outputs": []
    },
    {
      "metadata": {
        "id": "X36e713QoF7j",
        "colab_type": "code",
        "colab": {
          "base_uri": "https://localhost:8080/",
          "height": 119
        },
        "outputId": "f44da991-9a7d-43cd-8298-98542faa717b"
      },
      "cell_type": "code",
      "source": [
        "# LOOPS\n",
        "\n",
        "emoji_list = ['🙉', '👽', '🐼','🐧','🍅','🤘']\n",
        "\n",
        "for some_emoji in emoji_list:\n",
        "  print(50 * some_emoji)"
      ],
      "execution_count": 15,
      "outputs": [
        {
          "output_type": "stream",
          "text": [
            "🙉🙉🙉🙉🙉🙉🙉🙉🙉🙉🙉🙉🙉🙉🙉🙉🙉🙉🙉🙉🙉🙉🙉🙉🙉🙉🙉🙉🙉🙉🙉🙉🙉🙉🙉🙉🙉🙉🙉🙉🙉🙉🙉🙉🙉🙉🙉🙉🙉🙉\n",
            "👽👽👽👽👽👽👽👽👽👽👽👽👽👽👽👽👽👽👽👽👽👽👽👽👽👽👽👽👽👽👽👽👽👽👽👽👽👽👽👽👽👽👽👽👽👽👽👽👽👽\n",
            "🐼🐼🐼🐼🐼🐼🐼🐼🐼🐼🐼🐼🐼🐼🐼🐼🐼🐼🐼🐼🐼🐼🐼🐼🐼🐼🐼🐼🐼🐼🐼🐼🐼🐼🐼🐼🐼🐼🐼🐼🐼🐼🐼🐼🐼🐼🐼🐼🐼🐼\n",
            "🐧🐧🐧🐧🐧🐧🐧🐧🐧🐧🐧🐧🐧🐧🐧🐧🐧🐧🐧🐧🐧🐧🐧🐧🐧🐧🐧🐧🐧🐧🐧🐧🐧🐧🐧🐧🐧🐧🐧🐧🐧🐧🐧🐧🐧🐧🐧🐧🐧🐧\n",
            "🍅🍅🍅🍅🍅🍅🍅🍅🍅🍅🍅🍅🍅🍅🍅🍅🍅🍅🍅🍅🍅🍅🍅🍅🍅🍅🍅🍅🍅🍅🍅🍅🍅🍅🍅🍅🍅🍅🍅🍅🍅🍅🍅🍅🍅🍅🍅🍅🍅🍅\n",
            "🤘🤘🤘🤘🤘🤘🤘🤘🤘🤘🤘🤘🤘🤘🤘🤘🤘🤘🤘🤘🤘🤘🤘🤘🤘🤘🤘🤘🤘🤘🤘🤘🤘🤘🤘🤘🤘🤘🤘🤘🤘🤘🤘🤘🤘🤘🤘🤘🤘🤘\n"
          ],
          "name": "stdout"
        }
      ]
    },
    {
      "metadata": {
        "id": "zDtA9s3uolC2",
        "colab_type": "code",
        "colab": {
          "base_uri": "https://localhost:8080/",
          "height": 119
        },
        "outputId": "df0a6847-4325-4a6b-d1b9-aeae6bcc38d1"
      },
      "cell_type": "code",
      "source": [
        "# LIST COMPREHENSIONS (mini-loops in Python)\n",
        "\n",
        "[50*x for x in emoji_list]"
      ],
      "execution_count": 21,
      "outputs": [
        {
          "output_type": "execute_result",
          "data": {
            "text/plain": [
              "['🙉🙉🙉🙉🙉🙉🙉🙉🙉🙉🙉🙉🙉🙉🙉🙉🙉🙉🙉🙉🙉🙉🙉🙉🙉🙉🙉🙉🙉🙉🙉🙉🙉🙉🙉🙉🙉🙉🙉🙉🙉🙉🙉🙉🙉🙉🙉🙉🙉🙉',\n",
              " '👽👽👽👽👽👽👽👽👽👽👽👽👽👽👽👽👽👽👽👽👽👽👽👽👽👽👽👽👽👽👽👽👽👽👽👽👽👽👽👽👽👽👽👽👽👽👽👽👽👽',\n",
              " '🐼🐼🐼🐼🐼🐼🐼🐼🐼🐼🐼🐼🐼🐼🐼🐼🐼🐼🐼🐼🐼🐼🐼🐼🐼🐼🐼🐼🐼🐼🐼🐼🐼🐼🐼🐼🐼🐼🐼🐼🐼🐼🐼🐼🐼🐼🐼🐼🐼🐼',\n",
              " '🐧🐧🐧🐧🐧🐧🐧🐧🐧🐧🐧🐧🐧🐧🐧🐧🐧🐧🐧🐧🐧🐧🐧🐧🐧🐧🐧🐧🐧🐧🐧🐧🐧🐧🐧🐧🐧🐧🐧🐧🐧🐧🐧🐧🐧🐧🐧🐧🐧🐧',\n",
              " '🍅🍅🍅🍅🍅🍅🍅🍅🍅🍅🍅🍅🍅🍅🍅🍅🍅🍅🍅🍅🍅🍅🍅🍅🍅🍅🍅🍅🍅🍅🍅🍅🍅🍅🍅🍅🍅🍅🍅🍅🍅🍅🍅🍅🍅🍅🍅🍅🍅🍅',\n",
              " '🤘🤘🤘🤘🤘🤘🤘🤘🤘🤘🤘🤘🤘🤘🤘🤘🤘🤘🤘🤘🤘🤘🤘🤘🤘🤘🤘🤘🤘🤘🤘🤘🤘🤘🤘🤘🤘🤘🤘🤘🤘🤘🤘🤘🤘🤘🤘🤘🤘🤘']"
            ]
          },
          "metadata": {
            "tags": []
          },
          "execution_count": 21
        }
      ]
    },
    {
      "metadata": {
        "id": "1HT8VMu1D0mL",
        "colab_type": "code",
        "colab": {}
      },
      "cell_type": "code",
      "source": [
        "#create empty list\n",
        "stuff_people_do = []\n",
        "\n",
        "for some_worker_id in workers: #initiate loop\n",
        "  stuff = list(data[data.f_id == some_worker_id].sub_category) # extract portfolio for a single worker\n",
        "  stuff_people_do.append((some_worker_id, stuff)) # append portfolio to the list of portfolios"
      ],
      "execution_count": 0,
      "outputs": []
    },
    {
      "metadata": {
        "id": "ZD7-GNhvEHee",
        "colab_type": "code",
        "colab": {}
      },
      "cell_type": "code",
      "source": [
        "#use pandas to make it into a datafrmae\n",
        "portfolios = pd.DataFrame(stuff_people_do, columns = ['f_id', 'gig_portfolio'])"
      ],
      "execution_count": 0,
      "outputs": []
    },
    {
      "metadata": {
        "id": "H-jI8iPqqFMd",
        "colab_type": "text"
      },
      "cell_type": "markdown",
      "source": [
        "Now we are going to use Gensim (a library for Natural Language Processing) to transform these protfolio lists into BoW representations"
      ]
    },
    {
      "metadata": {
        "id": "_yEMm55tENaJ",
        "colab_type": "code",
        "colab": {}
      },
      "cell_type": "code",
      "source": [
        "# First we ceate a dicitonary - an index-subcategory mapping object\n",
        "\n",
        "dictionary = Dictionary(portfolios['gig_portfolio'])"
      ],
      "execution_count": 0,
      "outputs": []
    },
    {
      "metadata": {
        "id": "HRBvzaZHEuz6",
        "colab_type": "code",
        "colab": {
          "base_uri": "https://localhost:8080/",
          "height": 34
        },
        "outputId": "2a38c73b-9ded-4e54-8be7-007b6c4577a7"
      },
      "cell_type": "code",
      "source": [
        "# quick check: it's as long as the number of uniques subcategories\n",
        "len(dictionary)"
      ],
      "execution_count": 27,
      "outputs": [
        {
          "output_type": "execute_result",
          "data": {
            "text/plain": [
              "86"
            ]
          },
          "metadata": {
            "tags": []
          },
          "execution_count": 27
        }
      ]
    },
    {
      "metadata": {
        "id": "hWashIuEFeP4",
        "colab_type": "code",
        "colab": {
          "base_uri": "https://localhost:8080/",
          "height": 612
        },
        "outputId": "782e1af2-f78f-471d-ec0b-b940b8faee06"
      },
      "cell_type": "code",
      "source": [
        "data.sub_category.unique()"
      ],
      "execution_count": 28,
      "outputs": [
        {
          "output_type": "execute_result",
          "data": {
            "text/plain": [
              "array(['SEO - Search Engine Optimization', 'Data Entry',\n",
              "       'SEM - Search Engine Marketing', 'Display Advertising',\n",
              "       'Article & Blog Writing', '3D Modeling & CAD', 'Web Development',\n",
              "       'Web & Mobile Design', '.', 'General Translation', 'Presentations',\n",
              "       'Ecommerce Development', 'Graphic Design',\n",
              "       'Email & Marketing Automation', 'Other - Writing',\n",
              "       'Editing & Proofreading', 'Creative Writing', 'Web Content',\n",
              "       'QA & Testing', 'Web Research', 'Market & Customer Research',\n",
              "       'Other - Sales & Marketing', 'Marketing Strategy', 'Copywriting',\n",
              "       'Personal / Virtual Assistant', 'Other - Design & Creative',\n",
              "       'Lead Generation', 'Logo Design & Branding',\n",
              "       'SMM - Social Media Marketing', 'Voice Talent', 'Public Relations',\n",
              "       'Photography', 'Audio Production', 'Animation',\n",
              "       'Other - Accounting & Consulting', 'Other - Admin Support',\n",
              "       'Academic Writing & Research', 'Mobile Development',\n",
              "       'Video Production', 'Telemarketing & Telesales', 'Illustration',\n",
              "       'Transcription', 'Contract Law', 'Financial Planning',\n",
              "       'Paralegal Services', 'Desktop Software Development',\n",
              "       'Project Management', 'Other - Software Development',\n",
              "       'ERP / CRM Software', 'Data Mining & Management',\n",
              "       'Network & System Administration', 'Game Development',\n",
              "       'Quantitative Analysis', 'Other - Legal', 'Technical Writing',\n",
              "       'Data Visualization', 'Other - Data Science & Analytics',\n",
              "       'Scripts & Utilities', 'Technical Support', 'Product Design',\n",
              "       'Intellectual Property Law', 'Legal Translation',\n",
              "       'Product Management', 'Customer Service', 'Accounting',\n",
              "       'Other - IT & Networking', 'Database Administration',\n",
              "       'Data Extraction / ETL', 'Other - Engineering & Architecture',\n",
              "       'Human Resources', 'Other - Customer Service',\n",
              "       'Technical Translation', 'Machine Learning',\n",
              "       'Management Consulting', 'Civil & Structural Engineering',\n",
              "       'Information Security', 'Architecture', 'Grant Writing',\n",
              "       'Resumes & Cover Letters', 'Corporate Law', 'Medical Translation',\n",
              "       'Electrical Engineering', 'Interior Design', 'Family Law',\n",
              "       'Contract Manufacturing', 'Mechanical Engineering'], dtype=object)"
            ]
          },
          "metadata": {
            "tags": []
          },
          "execution_count": 28
        }
      ]
    },
    {
      "metadata": {
        "id": "srmR54I6FMhq",
        "colab_type": "code",
        "colab": {
          "base_uri": "https://localhost:8080/",
          "height": 34
        },
        "outputId": "4d98e497-6b4f-452b-e79a-5bdd434b2cb5"
      },
      "cell_type": "code",
      "source": [
        "len(set(data.sub_category))"
      ],
      "execution_count": 29,
      "outputs": [
        {
          "output_type": "execute_result",
          "data": {
            "text/plain": [
              "86"
            ]
          },
          "metadata": {
            "tags": []
          },
          "execution_count": 29
        }
      ]
    },
    {
      "metadata": {
        "id": "mFKCkOL3Fb3J",
        "colab_type": "code",
        "colab": {}
      },
      "cell_type": "code",
      "source": [
        "# Create a \"corpus of portfolios\" in BoW format\n",
        "corpus = [dictionary.doc2bow(sequence) for sequence in portfolios['gig_portfolio']]"
      ],
      "execution_count": 0,
      "outputs": []
    },
    {
      "metadata": {
        "id": "g9SGtE34FqEr",
        "colab_type": "code",
        "colab": {}
      },
      "cell_type": "code",
      "source": [
        "# Transform corpus into a matrix \n",
        "portfolio_matrix = gensim.matutils.corpus2dense(corpus=corpus, num_terms=len(dictionary))"
      ],
      "execution_count": 0,
      "outputs": []
    },
    {
      "metadata": {
        "id": "WIBG8eSUrGck",
        "colab_type": "code",
        "colab": {
          "base_uri": "https://localhost:8080/",
          "height": 34
        },
        "outputId": "460ce6bd-3a45-439f-c36d-f88248cd7ea1"
      },
      "cell_type": "code",
      "source": [
        "portfolio_matrix.shape"
      ],
      "execution_count": 33,
      "outputs": [
        {
          "output_type": "execute_result",
          "data": {
            "text/plain": [
              "(86, 1000)"
            ]
          },
          "metadata": {
            "tags": []
          },
          "execution_count": 33
        }
      ]
    },
    {
      "metadata": {
        "id": "vTQkA7xNrMA7",
        "colab_type": "code",
        "colab": {}
      },
      "cell_type": "code",
      "source": [
        "# swap rows and columns with a transponse\n",
        "portfolio_matrix = portfolio_matrix.T"
      ],
      "execution_count": 0,
      "outputs": []
    },
    {
      "metadata": {
        "id": "gT5VA5PZr2Og",
        "colab_type": "text"
      },
      "cell_type": "markdown",
      "source": [
        "Why should I trust this? Can we check if all the transformations didn't mess up things?"
      ]
    },
    {
      "metadata": {
        "id": "ipR4NJnyrS2R",
        "colab_type": "code",
        "colab": {
          "base_uri": "https://localhost:8080/",
          "height": 119
        },
        "outputId": "4a71df55-944d-4536-ba41-bbe6dd816c4c"
      },
      "cell_type": "code",
      "source": [
        "# portfolio of worker 0\n",
        "portfolio_matrix[0]"
      ],
      "execution_count": 35,
      "outputs": [
        {
          "output_type": "execute_result",
          "data": {
            "text/plain": [
              "array([1., 1., 1., 6., 5., 0., 0., 0., 0., 0., 0., 0., 0., 0., 0., 0., 0.,\n",
              "       0., 0., 0., 0., 0., 0., 0., 0., 0., 0., 0., 0., 0., 0., 0., 0., 0.,\n",
              "       0., 0., 0., 0., 0., 0., 0., 0., 0., 0., 0., 0., 0., 0., 0., 0., 0.,\n",
              "       0., 0., 0., 0., 0., 0., 0., 0., 0., 0., 0., 0., 0., 0., 0., 0., 0.,\n",
              "       0., 0., 0., 0., 0., 0., 0., 0., 0., 0., 0., 0., 0., 0., 0., 0., 0.,\n",
              "       0.], dtype=float32)"
            ]
          },
          "metadata": {
            "tags": []
          },
          "execution_count": 35
        }
      ]
    },
    {
      "metadata": {
        "id": "0ZTcwURUrX8P",
        "colab_type": "code",
        "colab": {
          "base_uri": "https://localhost:8080/",
          "height": 34
        },
        "outputId": "fd3e5a03-b86c-46bd-ced8-2798c5b6caa6"
      },
      "cell_type": "code",
      "source": [
        "# what's the taks sub-category of index 3?\n",
        "dictionary.get(3)"
      ],
      "execution_count": 42,
      "outputs": [
        {
          "output_type": "execute_result",
          "data": {
            "text/plain": [
              "'SEM - Search Engine Marketing'"
            ]
          },
          "metadata": {
            "tags": []
          },
          "execution_count": 42
        }
      ]
    },
    {
      "metadata": {
        "id": "yJie4th4rrqp",
        "colab_type": "code",
        "colab": {
          "base_uri": "https://localhost:8080/",
          "height": 272
        },
        "outputId": "c3491967-eaff-4891-dab0-35cc2b7a9118"
      },
      "cell_type": "code",
      "source": [
        "# How many times did the worker perform this gig?\n",
        "data[data.f_id == 0].sub_category"
      ],
      "execution_count": 43,
      "outputs": [
        {
          "output_type": "execute_result",
          "data": {
            "text/plain": [
              "0     SEO - Search Engine Optimization\n",
              "1                           Data Entry\n",
              "2     SEO - Search Engine Optimization\n",
              "3     SEO - Search Engine Optimization\n",
              "4        SEM - Search Engine Marketing\n",
              "5        SEM - Search Engine Marketing\n",
              "6        SEM - Search Engine Marketing\n",
              "7        SEM - Search Engine Marketing\n",
              "8                  Display Advertising\n",
              "9        SEM - Search Engine Marketing\n",
              "10    SEO - Search Engine Optimization\n",
              "11    SEO - Search Engine Optimization\n",
              "12              Article & Blog Writing\n",
              "13       SEM - Search Engine Marketing\n",
              "Name: sub_category, dtype: object"
            ]
          },
          "metadata": {
            "tags": []
          },
          "execution_count": 43
        }
      ]
    },
    {
      "metadata": {
        "id": "mTKYQtXtsRRh",
        "colab_type": "text"
      },
      "cell_type": "markdown",
      "source": [
        "Now we sucessfully created \"Bag-of-Gigs\" representations of individual workers' portfolios\n",
        "The matrix is however very sparse, as we can see (many zeros and  only some non-0 values) as one would expect that.\n",
        "PCA is not a good choice here. Instead we will use Non-negative Matrix Factorization (NMF), which has the tendency to very well \"squash\" the data into interpretable latent themes:\n",
        "\n",
        "In Natural Language Processing, such themes are called topics and what we are going to do now is referred to as Vector Space Modelling or Topic Modelling\n",
        "\n",
        "The coolest thing about that identified components are very interopretable. This is because the model is build on assumptions about the world related to co-occurence."
      ]
    },
    {
      "metadata": {
        "id": "NylUni31F0Mj",
        "colab_type": "code",
        "colab": {}
      },
      "cell_type": "code",
      "source": [
        "# Let's try to bring it all the way down to 5 dimensions\n",
        "\n",
        "from sklearn.decomposition import NMF\n",
        "model = NMF(n_components=5, init='random', random_state=0)\n",
        "portfolio_matrix_reduced = model.fit_transform(portfolio_matrix)"
      ],
      "execution_count": 0,
      "outputs": []
    },
    {
      "metadata": {
        "id": "REzpvIj8v2jG",
        "colab_type": "code",
        "colab": {
          "base_uri": "https://localhost:8080/",
          "height": 34
        },
        "outputId": "aae30f0b-5a2a-4e20-eda6-000409d9a85b"
      },
      "cell_type": "code",
      "source": [
        "# what are these components?\n",
        "model.components_.shape"
      ],
      "execution_count": 67,
      "outputs": [
        {
          "output_type": "execute_result",
          "data": {
            "text/plain": [
              "(5, 86)"
            ]
          },
          "metadata": {
            "tags": []
          },
          "execution_count": 67
        }
      ]
    },
    {
      "metadata": {
        "id": "BmUWA_l_tRKU",
        "colab_type": "code",
        "colab": {}
      },
      "cell_type": "code",
      "source": [
        "# Make a dataframe\n",
        "components_df = pd.DataFrame(model.components_, columns=list(dictionary.values()))"
      ],
      "execution_count": 0,
      "outputs": []
    },
    {
      "metadata": {
        "id": "qOMmC4X5uHRS",
        "colab_type": "code",
        "colab": {
          "base_uri": "https://localhost:8080/",
          "height": 119
        },
        "outputId": "0e798033-2af8-4f4a-f059-0155fcb388a3"
      },
      "cell_type": "code",
      "source": [
        "# Select a component\n",
        "component = components_df.iloc[4,:]\n",
        "\n",
        "# Print result of nlargest\n",
        "print(component.nlargest())"
      ],
      "execution_count": 70,
      "outputs": [
        {
          "output_type": "stream",
          "text": [
            "General Translation      13.173\n",
            "Voice Talent              1.739\n",
            "Article & Blog Writing    1.365\n",
            "Other - Writing           0.616\n",
            "Video Production          0.387\n",
            "Name: 4, dtype: float64\n"
          ],
          "name": "stdout"
        }
      ]
    },
    {
      "metadata": {
        "id": "5IXzZQoCGHIB",
        "colab_type": "code",
        "colab": {}
      },
      "cell_type": "code",
      "source": [
        "# Import clustering and dimensionality reduction\n",
        "# HDBSCAN won't work with numpy < 1.16\n",
        "\n",
        "import hdbscan\n",
        "import umap"
      ],
      "execution_count": 0,
      "outputs": []
    },
    {
      "metadata": {
        "id": "whHcbboJGgUk",
        "colab_type": "code",
        "colab": {}
      },
      "cell_type": "code",
      "source": [
        "embedding = umap.UMAP(n_neighbors=15, metric='cosine').fit_transform(portfolio_matrix_reduced)"
      ],
      "execution_count": 0,
      "outputs": []
    },
    {
      "metadata": {
        "id": "3xu8gU4eGvR6",
        "colab_type": "code",
        "colab": {
          "base_uri": "https://localhost:8080/",
          "height": 119
        },
        "outputId": "030d85ab-3683-488b-b619-87e5875be724"
      },
      "cell_type": "code",
      "source": [
        "# Warning can be ignored for now\n",
        "\n",
        "clusterer = hdbscan.HDBSCAN(min_cluster_size=50, \n",
        "                            min_samples=50, \n",
        "                            leaf_size=40, \n",
        "                            core_dist_n_jobs=16, \n",
        "                            prediction_data=True)\n",
        "clusterer.fit(embedding)"
      ],
      "execution_count": 18,
      "outputs": [
        {
          "output_type": "execute_result",
          "data": {
            "text/plain": [
              "HDBSCAN(algorithm='best', allow_single_cluster=False, alpha=1.0,\n",
              "    approx_min_span_tree=True, cluster_selection_method='eom',\n",
              "    core_dist_n_jobs=16, gen_min_span_tree=False, leaf_size=40,\n",
              "    match_reference_implementation=False, memory=Memory(location=None),\n",
              "    metric='euclidean', min_cluster_size=50, min_samples=50, p=None,\n",
              "    prediction_data=True)"
            ]
          },
          "metadata": {
            "tags": []
          },
          "execution_count": 18
        }
      ]
    },
    {
      "metadata": {
        "id": "zxxuBFk0HopB",
        "colab_type": "code",
        "colab": {
          "base_uri": "https://localhost:8080/",
          "height": 734
        },
        "outputId": "62e7c41a-2f0d-4d13-84f5-68097a063f5c"
      },
      "cell_type": "code",
      "source": [
        "pal = sns.color_palette(\"Paired\", n_colors = len(set(clusterer.labels_)))[1:]\n",
        "plt.figure(figsize=(12,12))\n",
        "plt.rcParams.update({'font.size': 15})\n",
        "clusterer.condensed_tree_.plot(select_clusters=True,\n",
        "                               selection_palette=pal, label_clusters=True)"
      ],
      "execution_count": 19,
      "outputs": [
        {
          "output_type": "execute_result",
          "data": {
            "text/plain": [
              "<matplotlib.axes._subplots.AxesSubplot at 0x7fca0529c438>"
            ]
          },
          "metadata": {
            "tags": []
          },
          "execution_count": 19
        },
        {
          "output_type": "display_data",
          "data": {
            "image/png": "[encoded data removed]",
            "text/plain": [
              "<Figure size 864x864 with 2 Axes>"
            ]
          },
          "metadata": {
            "tags": []
          }
        }
      ]
    },
    {
      "metadata": {
        "id": "Tg9vPbJbHqPK",
        "colab_type": "code",
        "colab": {
          "base_uri": "https://localhost:8080/",
          "height": 598
        },
        "outputId": "530f7f12-2975-4077-89da-73c6b9cc3798"
      },
      "cell_type": "code",
      "source": [
        "# Scatterplor of the UMAP embeddings with cluster-coloring\n",
        "plt.rcParams.update({'font.size': 12})\n",
        "plt.figure(figsize=(10,10))\n",
        "g = sns.scatterplot(*embedding.T, \n",
        "                hue=clusterer.labels_, \n",
        "                legend='full',\n",
        "                palette = 'Paired')\n",
        "legend = g.get_legend()"
      ],
      "execution_count": 28,
      "outputs": [
        {
          "output_type": "display_data",
          "data": {
            "image/png": "[encoded data removed]",
            "text/plain": [
              "<Figure size 720x720 with 1 Axes>"
            ]
          },
          "metadata": {
            "tags": []
          }
        }
      ]
    },
    {
      "metadata": {
        "id": "xzZDw9ToIJ4r",
        "colab_type": "code",
        "colab": {}
      },
      "cell_type": "code",
      "source": [
        "portfolios['cluster'] = clusterer.labels_"
      ],
      "execution_count": 0,
      "outputs": []
    },
    {
      "metadata": {
        "id": "91rsYFfzJqbF",
        "colab_type": "code",
        "colab": {}
      },
      "cell_type": "code",
      "source": [
        "import itertools"
      ],
      "execution_count": 0,
      "outputs": []
    },
    {
      "metadata": {
        "id": "9gg8A9TlJ_OW",
        "colab_type": "code",
        "colab": {}
      },
      "cell_type": "code",
      "source": [
        "from collections import Counter"
      ],
      "execution_count": 0,
      "outputs": []
    },
    {
      "metadata": {
        "id": "JW0uwlnVJsmu",
        "colab_type": "code",
        "colab": {}
      },
      "cell_type": "code",
      "source": [
        "counter = Counter(list(itertools.chain(*portfolios[portfolios.cluster == 4]['gig_portfolio'])))"
      ],
      "execution_count": 0,
      "outputs": []
    },
    {
      "metadata": {
        "id": "0iJQm9MVJ2KY",
        "colab_type": "code",
        "colab": {
          "base_uri": "https://localhost:8080/",
          "height": 357
        },
        "outputId": "5f97da72-e0cd-45e8-bb2d-e0b6029cd1eb"
      },
      "cell_type": "code",
      "source": [
        "counter.most_common(20)"
      ],
      "execution_count": 42,
      "outputs": [
        {
          "output_type": "execute_result",
          "data": {
            "text/plain": [
              "[('Graphic Design', 3266),\n",
              " ('Logo Design & Branding', 1291),\n",
              " ('Illustration', 619),\n",
              " ('Web Development', 420),\n",
              " ('Web & Mobile Design', 294),\n",
              " ('Photography', 150),\n",
              " ('Presentations', 131),\n",
              " ('Other - Design & Creative', 112),\n",
              " ('Animation', 102),\n",
              " ('Article & Blog Writing', 72),\n",
              " ('Data Entry', 69),\n",
              " ('Other - Writing', 51),\n",
              " ('Video Production', 46),\n",
              " ('Mobile Development', 46),\n",
              " ('3D Modeling & CAD', 46),\n",
              " ('.', 37),\n",
              " ('Game Development', 33),\n",
              " ('General Translation', 31),\n",
              " ('Web Content', 31),\n",
              " ('Web Research', 31)]"
            ]
          },
          "metadata": {
            "tags": []
          },
          "execution_count": 42
        }
      ]
    }
  ]
}